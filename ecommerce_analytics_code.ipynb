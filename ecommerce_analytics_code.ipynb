{
 "cells": [
  {
   "cell_type": "code",
   "execution_count": null,
   "id": "70c1b37d",
   "metadata": {},
   "outputs": [],
   "source": [
    "# E-Commerce Data Analysis Project\n",
    "# Complete pipeline for data simulation, processing, KPI reporting, and forecasting\n",
    "import pandas as pd\n",
    "import numpy as np\n",
    "import matplotlib.pyplot as plt\n",
    "import plotly.express as px\n",
    "from statsmodels.tsa.arima.model import ARIMA\n",
    "np.random.seed(42)"
   ]
  },
  {
   "cell_type": "code",
   "execution_count": null,
   "id": "2fd15a50",
   "metadata": {},
   "outputs": [],
   "source": [
    "# Simulate the raw dataset with realistic e-commerce attributes\n",
    "n_orders = 10000\n",
    "data = pd.DataFrame({\n",
    "    'OrderID': np.arange(1, n_orders + 1),\n",
    "    'CustomerID': np.random.randint(1000, 2000, size=n_orders),\n",
    "    'OrderDate': pd.date_range(start='2022-01-01', periods=n_orders, freq='H'),\n",
    "    'Category': np.random.choice(['Electronics', 'Clothing', 'Books', 'Home & Kitchen'], size=n_orders),\n",
    "    'OrderAmount': np.round(np.random.exponential(scale=80, size=n_orders), 2),\n",
    "    'IsReturned': np.random.choice([0, 1], size=n_orders, p=[0.9, 0.1])\n",
    "})\n",
    "# Convert order date to monthly period and assign customer segments\n",
    "data['Month'] = data['OrderDate'].dt.to_period('M').dt.to_timestamp()\n",
    "data['CustomerSegment'] = np.random.choice(['Budget', 'Premium', 'Occasional'], size=n_orders)\n",
    "# Simulate repeat purchases and estimate customer lifetime value\n",
    "data['RepeatPurchases'] = np.random.poisson(2, size=n_orders)\n",
    "data['CLV'] = data['OrderAmount'] * data['RepeatPurchases']\n",
    "data.head()"
   ]
  },
  {
   "cell_type": "code",
   "execution_count": null,
   "id": "210264d8",
   "metadata": {},
   "outputs": [],
   "source": [
    "# Analyze monthly revenue across product categories\n",
    "monthly_revenue = data.groupby(['Month', 'Category'])['OrderAmount'].sum().reset_index()\n",
    "fig = px.line(monthly_revenue, x='Month', y='OrderAmount', color='Category', markers=True,\n",
    "              title='Monthly Revenue by Product Category')\n",
    "fig.update_layout(template='plotly_white')\n",
    "fig.show()"
   ]
  },
  {
   "cell_type": "code",
   "execution_count": null,
   "id": "c8e5e4b7",
   "metadata": {},
   "outputs": [],
   "source": [
    "# Calculate average order value for each product category\n",
    "avg_order = data.groupby('Category')['OrderAmount'].mean().sort_values()\n",
    "fig = px.bar(x=avg_order.values, y=avg_order.index, orientation='h',\n",
    "             labels={'x': 'Average Order Value ($)', 'y': 'Category'},\n",
    "             title='Average Order Value by Category')\n",
    "fig.update_layout(template='plotly_white')\n",
    "fig.show()"
   ]
  },
  {
   "cell_type": "code",
   "execution_count": null,
   "id": "63b21748",
   "metadata": {},
   "outputs": [],
   "source": [
    "# Visualize return rate across categories\n",
    "return_rate = data.groupby('Category')['IsReturned'].mean().sort_values()\n",
    "fig = px.bar(x=return_rate.values, y=return_rate.index, orientation='h',\n",
    "             labels={'x': 'Return Rate', 'y': 'Category'},\n",
    "             title='Return Rate by Product Category')\n",
    "fig.update_traces(texttemplate='%{x:.2%}', textposition='outside')\n",
    "fig.update_layout(template='plotly_white')\n",
    "fig.show()"
   ]
  },
  {
   "cell_type": "code",
   "execution_count": null,
   "id": "d10a282d",
   "metadata": {},
   "outputs": [],
   "source": [
    "# Breakdown of revenue by customer segment\n",
    "segment_revenue = data.groupby('CustomerSegment')['OrderAmount'].sum().reset_index()\n",
    "fig = px.pie(segment_revenue, names='CustomerSegment', values='OrderAmount',\n",
    "             title='Revenue Contribution by Customer Segment', hole=0.4)\n",
    "fig.update_traces(textinfo='percent+label')\n",
    "fig.update_layout(template='plotly_dark')\n",
    "fig.show()"
   ]
  },
  {
   "cell_type": "code",
   "execution_count": null,
   "id": "4f9c7433",
   "metadata": {},
   "outputs": [],
   "source": [
    "# Calculate KPIs (Key Performance Indicators) by segment\n",
    "kpis = data.groupby('CustomerSegment').agg(\n",
    "    TotalRevenue=('OrderAmount', 'sum'),\n",
    "    AvgOrderValue=('OrderAmount', 'mean'),\n",
    "    ReturnRate=('IsReturned', 'mean'),\n",
    "    Orders=('OrderID', 'count'),\n",
    "    AvgCLV=('CLV', 'mean')\n",
    ").reset_index()\n",
    "kpis"
   ]
  },
  {
   "cell_type": "code",
   "execution_count": null,
   "id": "62977ad7",
   "metadata": {},
   "outputs": [],
   "source": [
    "# Plot KPI bar charts for each customer segment\n",
    "kpi_titles = {\n",
    "    'TotalRevenue': 'Total Revenue ($)',\n",
    "    'AvgOrderValue': 'Average Order Value ($)',\n",
    "    'AvgCLV': 'Customer Lifetime Value ($)',\n",
    "    'ReturnRate': 'Return Rate (%)'\n",
    "}\n",
    "for metric, title in kpi_titles.items():\n",
    "    fig = px.bar(kpis.sort_values(metric, ascending=False),\n",
    "                 x='CustomerSegment', y=metric, color='CustomerSegment',\n",
    "                 title=title, text=metric)\n",
    "    fig.update_traces(texttemplate='%{text:.2f}', textposition='outside')\n",
    "    fig.update_layout(template='plotly_white', showlegend=False)\n",
    "    fig.show()"
   ]
  },
  {
   "cell_type": "code",
   "execution_count": null,
   "id": "d5a0f037",
   "metadata": {},
   "outputs": [],
   "source": [
    "# Forecast revenue for the next 6 months using ARIMA\n",
    "monthly_sales = data.groupby('Month')['OrderAmount'].sum()\n",
    "monthly_sales.index = pd.to_datetime(monthly_sales.index)\n",
    "model = ARIMA(monthly_sales, order=(1, 1, 1))\n",
    "fit = model.fit()\n",
    "forecast = fit.forecast(6)\n",
    "future_dates = pd.date_range(start=monthly_sales.index[-1] + pd.offsets.MonthBegin(1), periods=6, freq='MS')\n",
    "plt.figure(figsize=(10, 5))\n",
    "plt.plot(monthly_sales, label='Historical')\n",
    "plt.plot(future_dates, forecast, label='Forecast', linestyle='--')\n",
    "plt.title('6-Month Revenue Forecast')\n",
    "plt.xlabel('Month')\n",
    "plt.ylabel('Revenue ($)')\n",
    "plt.legend()\n",
    "plt.grid(True)\n",
    "plt.tight_layout()\n",
    "plt.show()"
   ]
  }
 ],
 "metadata": {},
 "nbformat": 4,
 "nbformat_minor": 5
}
