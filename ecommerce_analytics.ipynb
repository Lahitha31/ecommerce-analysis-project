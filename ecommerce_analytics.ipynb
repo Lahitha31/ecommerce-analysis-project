{
 "cells": [
  {
   "cell_type": "markdown",
   "id": "8f6fc0ff",
   "metadata": {},
   "source": [
    "# 📦 E-Commerce Data Analytics Project\n",
    "Simulate, process, and visualize a full pipeline of e-commerce data using Python in a Google Colab environment.\n",
    "\n",
    "**Author:** Lahitha Motupalli  \n",
    "**Generated on:** June 04, 2025\n",
    "\n",
    "---"
   ]
  },
  {
   "cell_type": "code",
   "execution_count": null,
   "id": "0d5a6845",
   "metadata": {},
   "outputs": [],
   "source": [
    "import pandas as pd\n",
    "import numpy as np\n",
    "import matplotlib.pyplot as plt\n",
    "import seaborn as sns\n",
    "np.random.seed(42)"
   ]
  },
  {
   "cell_type": "markdown",
   "id": "82b8a4ca",
   "metadata": {},
   "source": [
    "## 🔧 Generate Synthetic E-commerce Dataset"
   ]
  },
  {
   "cell_type": "code",
   "execution_count": null,
   "id": "e26cb3c1",
   "metadata": {},
   "outputs": [],
   "source": [
    "n_orders = 10000\n",
    "data = pd.DataFrame({\n",
    "    'OrderID': np.arange(1, n_orders + 1),\n",
    "    'CustomerID': np.random.randint(1000, 2000, size=n_orders),\n",
    "    'OrderDate': pd.to_datetime(np.random.choice(pd.date_range(start='2022-01-01', end='2023-12-31'), n_orders)),\n",
    "    'Region': np.random.choice(['North', 'South', 'East', 'West'], size=n_orders),\n",
    "    'ProductCategory': np.random.choice(['Electronics', 'Clothing', 'Home', 'Books'], size=n_orders),\n",
    "    'OrderAmount': np.round(np.random.exponential(scale=120.0, size=n_orders), 2),\n",
    "    'Returned': np.random.choice([0, 1], size=n_orders, p=[0.9, 0.1])\n",
    "})\n",
    "data['Month'] = data['OrderDate'].dt.to_period('M')\n",
    "data.head()"
   ]
  },
  {
   "cell_type": "markdown",
   "id": "c1bc77ab",
   "metadata": {},
   "source": [
    "## 📈 Analyze the Data"
   ]
  },
  {
   "cell_type": "code",
   "execution_count": null,
   "id": "f34360a4",
   "metadata": {},
   "outputs": [],
   "source": [
    "# Monthly Revenue by Region\n",
    "monthly_revenue = data.groupby(['Month', 'Region'])['OrderAmount'].sum().unstack().fillna(0)\n",
    "\n",
    "# Avg Order Amount per Category\n",
    "avg_order_by_category = data.groupby('ProductCategory')['OrderAmount'].mean().sort_values()\n",
    "\n",
    "# Return Rate by Product Category\n",
    "return_rate = data.groupby('ProductCategory')['Returned'].mean()"
   ]
  },
  {
   "cell_type": "markdown",
   "id": "93afda8e",
   "metadata": {},
   "source": [
    "## 📊 Visualize Insights"
   ]
  },
  {
   "cell_type": "code",
   "execution_count": null,
   "id": "fed2a647",
   "metadata": {},
   "outputs": [],
   "source": [
    "monthly_revenue.plot(figsize=(12,6), marker='o')\n",
    "plt.title('Monthly Revenue by Region')\n",
    "plt.ylabel('Revenue ($)')\n",
    "plt.xlabel('Month')\n",
    "plt.xticks(rotation=45)\n",
    "plt.tight_layout()\n",
    "plt.grid(True)\n",
    "plt.show()"
   ]
  },
  {
   "cell_type": "code",
   "execution_count": null,
   "id": "ed79ecb5",
   "metadata": {},
   "outputs": [],
   "source": [
    "plt.figure(figsize=(8,5))\n",
    "sns.barplot(x=avg_order_by_category.index, y=avg_order_by_category.values)\n",
    "plt.title('Average Order Amount by Product Category')\n",
    "plt.ylabel('Average Amount ($)')\n",
    "plt.xlabel('Product Category')\n",
    "plt.grid(axis='y')\n",
    "plt.show()"
   ]
  },
  {
   "cell_type": "code",
   "execution_count": null,
   "id": "1829a0f2",
   "metadata": {},
   "outputs": [],
   "source": [
    "plt.figure(figsize=(8,5))\n",
    "sns.barplot(x=return_rate.index, y=return_rate.values)\n",
    "plt.title('Return Rate by Product Category')\n",
    "plt.ylabel('Return Rate')\n",
    "plt.xlabel('Product Category')\n",
    "plt.grid(axis='y')\n",
    "plt.show()"
   ]
  }
 ],
 "metadata": {},
 "nbformat": 4,
 "nbformat_minor": 5
}
